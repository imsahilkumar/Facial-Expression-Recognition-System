{
  "cells": [
    {
      "cell_type": "code",
      "source": [
        "!unzip \"/content/drive/MyDrive/fer2013.tar\""
      ],
      "metadata": {
        "colab": {
          "base_uri": "https://localhost:8080/"
        },
        "id": "ezr2DsH7dR6L",
        "outputId": "30853770-7356-4ca2-f4d2-924840c840f9"
      },
      "execution_count": 6,
      "outputs": [
        {
          "output_type": "stream",
          "name": "stdout",
          "text": [
            "Archive:  /content/drive/MyDrive/fer2013.tar\n",
            "   creating: fer2013/\n",
            "  inflating: fer2013/README          \n",
            "  inflating: fer2013/fer2013.bib     \n",
            "  inflating: fer2013/fer2013.csv     \n"
          ]
        }
      ]
    },
    {
      "cell_type": "code",
      "execution_count": 7,
      "metadata": {
        "id": "-exINJRsOYKd"
      },
      "outputs": [],
      "source": [
        "#dependencies\n",
        "import numpy as np\n",
        "import cv2\n",
        "import pandas as pd\n",
        "import matplotlib.pyplot as plt\n",
        "from keras.utils import np_utils\n",
        "from keras.models import Sequential, Model, model_from_json\n",
        "from keras.layers import Conv2D, Activation, MaxPool2D, Dropout, Dense, BatchNormalization, Flatten\n",
        "from keras.callbacks import ModelCheckpoint\n",
        "import tarfile"
      ]
    },
    {
      "cell_type": "code",
      "source": [
        "!unzip \"fer2013/fer2013.csv\""
      ],
      "metadata": {
        "colab": {
          "base_uri": "https://localhost:8080/"
        },
        "id": "KSxYgACtec_E",
        "outputId": "c09fadea-5030-4d1f-91e1-486ed060fcaf"
      },
      "execution_count": 10,
      "outputs": [
        {
          "output_type": "stream",
          "name": "stdout",
          "text": [
            "Archive:  fer2013/fer2013.csv\n",
            "  End-of-central-directory signature not found.  Either this file is not\n",
            "  a zipfile, or it constitutes one disk of a multi-part archive.  In the\n",
            "  latter case the central directory and zipfile comment will be found on\n",
            "  the last disk(s) of this archive.\n",
            "unzip:  cannot find zipfile directory in one of fer2013/fer2013.csv or\n",
            "        fer2013/fer2013.csv.zip, and cannot find fer2013/fer2013.csv.ZIP, period.\n"
          ]
        }
      ]
    },
    {
      "cell_type": "code",
      "execution_count": 11,
      "metadata": {
        "scrolled": true,
        "colab": {
          "base_uri": "https://localhost:8080/",
          "height": 206
        },
        "id": "QlUZiRjJOYKl",
        "outputId": "46b51131-6db9-41de-bfa9-bf146e273c84"
      },
      "outputs": [
        {
          "output_type": "execute_result",
          "data": {
            "text/plain": [
              "   emotion                                             pixels     Usage\n",
              "0        0  70 80 82 72 58 58 60 63 54 58 60 48 89 115 121...  Training\n",
              "1        0  151 150 147 155 148 133 111 140 170 174 182 15...  Training\n",
              "2        2  231 212 156 164 174 138 161 173 182 200 106 38...  Training\n",
              "3        4  24 32 36 30 32 23 19 20 30 41 21 22 32 34 21 1...  Training\n",
              "4        6  4 0 0 0 0 0 0 0 0 0 0 0 3 15 23 28 48 50 58 84...  Training"
            ],
            "text/html": [
              "\n",
              "  <div id=\"df-01572665-6a90-4adb-b6f6-af918bc1c82e\">\n",
              "    <div class=\"colab-df-container\">\n",
              "      <div>\n",
              "<style scoped>\n",
              "    .dataframe tbody tr th:only-of-type {\n",
              "        vertical-align: middle;\n",
              "    }\n",
              "\n",
              "    .dataframe tbody tr th {\n",
              "        vertical-align: top;\n",
              "    }\n",
              "\n",
              "    .dataframe thead th {\n",
              "        text-align: right;\n",
              "    }\n",
              "</style>\n",
              "<table border=\"1\" class=\"dataframe\">\n",
              "  <thead>\n",
              "    <tr style=\"text-align: right;\">\n",
              "      <th></th>\n",
              "      <th>emotion</th>\n",
              "      <th>pixels</th>\n",
              "      <th>Usage</th>\n",
              "    </tr>\n",
              "  </thead>\n",
              "  <tbody>\n",
              "    <tr>\n",
              "      <th>0</th>\n",
              "      <td>0</td>\n",
              "      <td>70 80 82 72 58 58 60 63 54 58 60 48 89 115 121...</td>\n",
              "      <td>Training</td>\n",
              "    </tr>\n",
              "    <tr>\n",
              "      <th>1</th>\n",
              "      <td>0</td>\n",
              "      <td>151 150 147 155 148 133 111 140 170 174 182 15...</td>\n",
              "      <td>Training</td>\n",
              "    </tr>\n",
              "    <tr>\n",
              "      <th>2</th>\n",
              "      <td>2</td>\n",
              "      <td>231 212 156 164 174 138 161 173 182 200 106 38...</td>\n",
              "      <td>Training</td>\n",
              "    </tr>\n",
              "    <tr>\n",
              "      <th>3</th>\n",
              "      <td>4</td>\n",
              "      <td>24 32 36 30 32 23 19 20 30 41 21 22 32 34 21 1...</td>\n",
              "      <td>Training</td>\n",
              "    </tr>\n",
              "    <tr>\n",
              "      <th>4</th>\n",
              "      <td>6</td>\n",
              "      <td>4 0 0 0 0 0 0 0 0 0 0 0 3 15 23 28 48 50 58 84...</td>\n",
              "      <td>Training</td>\n",
              "    </tr>\n",
              "  </tbody>\n",
              "</table>\n",
              "</div>\n",
              "      <button class=\"colab-df-convert\" onclick=\"convertToInteractive('df-01572665-6a90-4adb-b6f6-af918bc1c82e')\"\n",
              "              title=\"Convert this dataframe to an interactive table.\"\n",
              "              style=\"display:none;\">\n",
              "        \n",
              "  <svg xmlns=\"http://www.w3.org/2000/svg\" height=\"24px\"viewBox=\"0 0 24 24\"\n",
              "       width=\"24px\">\n",
              "    <path d=\"M0 0h24v24H0V0z\" fill=\"none\"/>\n",
              "    <path d=\"M18.56 5.44l.94 2.06.94-2.06 2.06-.94-2.06-.94-.94-2.06-.94 2.06-2.06.94zm-11 1L8.5 8.5l.94-2.06 2.06-.94-2.06-.94L8.5 2.5l-.94 2.06-2.06.94zm10 10l.94 2.06.94-2.06 2.06-.94-2.06-.94-.94-2.06-.94 2.06-2.06.94z\"/><path d=\"M17.41 7.96l-1.37-1.37c-.4-.4-.92-.59-1.43-.59-.52 0-1.04.2-1.43.59L10.3 9.45l-7.72 7.72c-.78.78-.78 2.05 0 2.83L4 21.41c.39.39.9.59 1.41.59.51 0 1.02-.2 1.41-.59l7.78-7.78 2.81-2.81c.8-.78.8-2.07 0-2.86zM5.41 20L4 18.59l7.72-7.72 1.47 1.35L5.41 20z\"/>\n",
              "  </svg>\n",
              "      </button>\n",
              "      \n",
              "  <style>\n",
              "    .colab-df-container {\n",
              "      display:flex;\n",
              "      flex-wrap:wrap;\n",
              "      gap: 12px;\n",
              "    }\n",
              "\n",
              "    .colab-df-convert {\n",
              "      background-color: #E8F0FE;\n",
              "      border: none;\n",
              "      border-radius: 50%;\n",
              "      cursor: pointer;\n",
              "      display: none;\n",
              "      fill: #1967D2;\n",
              "      height: 32px;\n",
              "      padding: 0 0 0 0;\n",
              "      width: 32px;\n",
              "    }\n",
              "\n",
              "    .colab-df-convert:hover {\n",
              "      background-color: #E2EBFA;\n",
              "      box-shadow: 0px 1px 2px rgba(60, 64, 67, 0.3), 0px 1px 3px 1px rgba(60, 64, 67, 0.15);\n",
              "      fill: #174EA6;\n",
              "    }\n",
              "\n",
              "    [theme=dark] .colab-df-convert {\n",
              "      background-color: #3B4455;\n",
              "      fill: #D2E3FC;\n",
              "    }\n",
              "\n",
              "    [theme=dark] .colab-df-convert:hover {\n",
              "      background-color: #434B5C;\n",
              "      box-shadow: 0px 1px 3px 1px rgba(0, 0, 0, 0.15);\n",
              "      filter: drop-shadow(0px 1px 2px rgba(0, 0, 0, 0.3));\n",
              "      fill: #FFFFFF;\n",
              "    }\n",
              "  </style>\n",
              "\n",
              "      <script>\n",
              "        const buttonEl =\n",
              "          document.querySelector('#df-01572665-6a90-4adb-b6f6-af918bc1c82e button.colab-df-convert');\n",
              "        buttonEl.style.display =\n",
              "          google.colab.kernel.accessAllowed ? 'block' : 'none';\n",
              "\n",
              "        async function convertToInteractive(key) {\n",
              "          const element = document.querySelector('#df-01572665-6a90-4adb-b6f6-af918bc1c82e');\n",
              "          const dataTable =\n",
              "            await google.colab.kernel.invokeFunction('convertToInteractive',\n",
              "                                                     [key], {});\n",
              "          if (!dataTable) return;\n",
              "\n",
              "          const docLinkHtml = 'Like what you see? Visit the ' +\n",
              "            '<a target=\"_blank\" href=https://colab.research.google.com/notebooks/data_table.ipynb>data table notebook</a>'\n",
              "            + ' to learn more about interactive tables.';\n",
              "          element.innerHTML = '';\n",
              "          dataTable['output_type'] = 'display_data';\n",
              "          await google.colab.output.renderOutput(dataTable, element);\n",
              "          const docLink = document.createElement('div');\n",
              "          docLink.innerHTML = docLinkHtml;\n",
              "          element.appendChild(docLink);\n",
              "        }\n",
              "      </script>\n",
              "    </div>\n",
              "  </div>\n",
              "  "
            ]
          },
          "metadata": {},
          "execution_count": 11
        }
      ],
      "source": [
        "#dataset\n",
        "ds = pd.read_csv(\"/content/fer2013/fer2013.csv\")\n",
        "ds.head()\n",
        "#0=Angry, 1=Disgust, 2=Fear, 3=Happy, 4=Sad, 5=Surprise, 6=Neutral"
      ]
    },
    {
      "cell_type": "code",
      "source": [
        "from google.colab import drive\n",
        "drive.mount('/content/drive')"
      ],
      "metadata": {
        "colab": {
          "base_uri": "https://localhost:8080/"
        },
        "id": "bWhUzHddvVCl",
        "outputId": "dfcef7a2-81da-49e1-e4cb-fd57472d7751"
      },
      "execution_count": 5,
      "outputs": [
        {
          "output_type": "stream",
          "name": "stdout",
          "text": [
            "Mounted at /content/drive\n"
          ]
        }
      ]
    },
    {
      "cell_type": "code",
      "execution_count": 12,
      "metadata": {
        "colab": {
          "base_uri": "https://localhost:8080/"
        },
        "id": "-_P-bQDROYKn",
        "outputId": "5b93954b-b429-4da1-9d2d-99006e445eea"
      },
      "outputs": [
        {
          "output_type": "execute_result",
          "data": {
            "text/plain": [
              "Training       28709\n",
              "PublicTest      3589\n",
              "PrivateTest     3589\n",
              "Name: Usage, dtype: int64"
            ]
          },
          "metadata": {},
          "execution_count": 12
        }
      ],
      "source": [
        "ds[\"Usage\"].value_counts()"
      ]
    },
    {
      "cell_type": "code",
      "execution_count": 13,
      "metadata": {
        "colab": {
          "base_uri": "https://localhost:8080/"
        },
        "id": "UQXFQh2NOYKp",
        "outputId": "7f35988d-b07f-475a-d6b1-26c1e67d585c"
      },
      "outputs": [
        {
          "output_type": "execute_result",
          "data": {
            "text/plain": [
              "((28709, 2304), (3589, 2304))"
            ]
          },
          "metadata": {},
          "execution_count": 13
        }
      ],
      "source": [
        "train = ds[[\"emotion\", \"pixels\"]][ds[\"Usage\"] == \"Training\"]\n",
        "train['pixels'] = train['pixels'].apply(lambda x: np.fromstring(x, sep=' '))\n",
        "train_pix = np.vstack(train['pixels'].values)\n",
        "test = ds[[\"emotion\", \"pixels\"]][ds[\"Usage\"] == \"PublicTest\"]\n",
        "test['pixels'] = test['pixels'].apply(lambda x: np.fromstring(x, sep=' '))\n",
        "test_pix = np.vstack(test['pixels'].values)\n",
        "train_pix.shape, test_pix.shape"
      ]
    },
    {
      "cell_type": "code",
      "execution_count": 14,
      "metadata": {
        "colab": {
          "base_uri": "https://localhost:8080/"
        },
        "id": "g0LFDBZYOYKq",
        "outputId": "da739baa-ee29-4070-b322-378271273bc5"
      },
      "outputs": [
        {
          "output_type": "execute_result",
          "data": {
            "text/plain": [
              "((28709,), (3589,))"
            ]
          },
          "metadata": {},
          "execution_count": 14
        }
      ],
      "source": [
        "#0=Angry, 1=Disgust, 2=Fear, 3=Happy, 4=Sad, 5=Surprise, 6=Neutral\n",
        "#0=angry, 1=disgust+fear+surprise, 3=Happy, 4=sad, 6= neutral\n",
        "#apending 2 and 5 to 1; 5 to 2; 6 to 4\n",
        "#:::: set append = false to avoid changes\n",
        "def e_ind(x):\n",
        "    if(x==2 or x==5):\n",
        "        return 1\n",
        "    elif(x==5):\n",
        "        return 2\n",
        "    elif(x==6):\n",
        "        return 4\n",
        "    else:\n",
        "        return x\n",
        "F_S_D = True\n",
        "if(F_S_D):\n",
        "    train['emotion'] = train['emotion'].apply(lambda x: e_ind(x))\n",
        "    test['emotion'] = test['emotion'].apply(lambda x: e_ind(x))\n",
        "train_ind = np.array(train[\"emotion\"])\n",
        "test_ind = np.array(test[\"emotion\"])\n",
        "train_ind.shape, test_ind.shape"
      ]
    },
    {
      "cell_type": "code",
      "execution_count": 15,
      "metadata": {
        "colab": {
          "base_uri": "https://localhost:8080/"
        },
        "id": "9kxz5eoaOYKs",
        "outputId": "19292393-c994-4272-edfe-7eff6578cc59"
      },
      "outputs": [
        {
          "output_type": "execute_result",
          "data": {
            "text/plain": [
              "((28709, 5), (3589, 5))"
            ]
          },
          "metadata": {},
          "execution_count": 15
        }
      ],
      "source": [
        "train_pix = train_pix.reshape(-1,48,48,1)\n",
        "train_ind = np_utils.to_categorical(train_ind)\n",
        "test_pix = test_pix.reshape(-1,48,48,1)\n",
        "test_ind = np_utils.to_categorical(test_ind)\n",
        "train_ind.shape, test_ind.shape\n",
        "#train_pix.shape, test_pix.shape"
      ]
    },
    {
      "cell_type": "code",
      "execution_count": 16,
      "metadata": {
        "colab": {
          "base_uri": "https://localhost:8080/"
        },
        "id": "Lv3NL55XOYKt",
        "outputId": "2b8fb666-aa93-41cc-9f5b-feb7c66253f3"
      },
      "outputs": [
        {
          "output_type": "stream",
          "name": "stdout",
          "text": [
            "Model: \"sequential\"\n",
            "_________________________________________________________________\n",
            " Layer (type)                Output Shape              Param #   \n",
            "=================================================================\n",
            " conv2d (Conv2D)             (None, 44, 44, 64)        1664      \n",
            "                                                                 \n",
            " batch_normalization (BatchN  (None, 44, 44, 64)       256       \n",
            " ormalization)                                                   \n",
            "                                                                 \n",
            " activation (Activation)     (None, 44, 44, 64)        0         \n",
            "                                                                 \n",
            " conv2d_1 (Conv2D)           (None, 41, 41, 64)        65600     \n",
            "                                                                 \n",
            " batch_normalization_1 (Batc  (None, 41, 41, 64)       256       \n",
            " hNormalization)                                                 \n",
            "                                                                 \n",
            " activation_1 (Activation)   (None, 41, 41, 64)        0         \n",
            "                                                                 \n",
            " max_pooling2d (MaxPooling2D  (None, 20, 20, 64)       0         \n",
            " )                                                               \n",
            "                                                                 \n",
            " dropout (Dropout)           (None, 20, 20, 64)        0         \n",
            "                                                                 \n",
            " conv2d_2 (Conv2D)           (None, 18, 18, 32)        18464     \n",
            "                                                                 \n",
            " batch_normalization_2 (Batc  (None, 18, 18, 32)       128       \n",
            " hNormalization)                                                 \n",
            "                                                                 \n",
            " activation_2 (Activation)   (None, 18, 18, 32)        0         \n",
            "                                                                 \n",
            " conv2d_3 (Conv2D)           (None, 16, 16, 32)        9248      \n",
            "                                                                 \n",
            " batch_normalization_3 (Batc  (None, 16, 16, 32)       128       \n",
            " hNormalization)                                                 \n",
            "                                                                 \n",
            " activation_3 (Activation)   (None, 16, 16, 32)        0         \n",
            "                                                                 \n",
            " max_pooling2d_1 (MaxPooling  (None, 8, 8, 32)         0         \n",
            " 2D)                                                             \n",
            "                                                                 \n",
            " dropout_1 (Dropout)         (None, 8, 8, 32)          0         \n",
            "                                                                 \n",
            " flatten (Flatten)           (None, 2048)              0         \n",
            "                                                                 \n",
            " dense (Dense)               (None, 128)               262272    \n",
            "                                                                 \n",
            " batch_normalization_4 (Batc  (None, 128)              512       \n",
            " hNormalization)                                                 \n",
            "                                                                 \n",
            " activation_4 (Activation)   (None, 128)               0         \n",
            "                                                                 \n",
            " dropout_2 (Dropout)         (None, 128)               0         \n",
            "                                                                 \n",
            " dense_1 (Dense)             (None, 5)                 645       \n",
            "                                                                 \n",
            " activation_5 (Activation)   (None, 5)                 0         \n",
            "                                                                 \n",
            "=================================================================\n",
            "Total params: 359,173\n",
            "Trainable params: 358,533\n",
            "Non-trainable params: 640\n",
            "_________________________________________________________________\n"
          ]
        }
      ],
      "source": [
        "model = Sequential()\n",
        "model.add(Conv2D(64, 5, data_format=\"channels_last\", kernel_initializer=\"he_normal\", \n",
        "                 input_shape=(48, 48, 1)))\n",
        "model.add(BatchNormalization())\n",
        "model.add(Activation(\"relu\"))\n",
        "\n",
        "model.add(Conv2D(64, 4))\n",
        "model.add(BatchNormalization())\n",
        "model.add(Activation(\"relu\"))\n",
        "model.add(MaxPool2D(pool_size=(2, 2), strides=2))\n",
        "model.add(Dropout(0.5))\n",
        "\n",
        "model.add(Conv2D(32, 3))\n",
        "model.add(BatchNormalization())\n",
        "model.add(Activation(\"relu\"))\n",
        "\n",
        "model.add(Conv2D(32, 3))\n",
        "model.add(BatchNormalization())\n",
        "model.add(Activation(\"relu\"))\n",
        "\n",
        "model.add(MaxPool2D(pool_size=(2, 2), strides=2))\n",
        "model.add(Dropout(0.5))\n",
        "\n",
        "model.add(Flatten())\n",
        "model.add(Dense(128))\n",
        "model.add(BatchNormalization())\n",
        "model.add(Activation(\"relu\"))\n",
        "model.add(Dropout(0.2))\n",
        "\n",
        "if(F_S_D):\n",
        "    model.add(Dense(5))\n",
        "else:\n",
        "    model.add(Dense(7))\n",
        "model.add(Activation('softmax'))\n",
        "model.compile(loss='categorical_crossentropy', optimizer='adam', metrics=['accuracy'])\n",
        "model.summary()"
      ]
    },
    {
      "cell_type": "code",
      "execution_count": 17,
      "metadata": {
        "colab": {
          "base_uri": "https://localhost:8080/"
        },
        "id": "Jdw7m5UbOYKv",
        "outputId": "05e68d05-c2c4-48d3-b315-75118c082e73"
      },
      "outputs": [
        {
          "output_type": "stream",
          "name": "stdout",
          "text": [
            "Epoch 1/16\n",
            "\n",
            "Epoch 1: val_loss improved from inf to 1.09563, saving model to chkPt1.h5\n",
            "288/288 - 21s - loss: 1.2938 - accuracy: 0.4518 - val_loss: 1.0956 - val_accuracy: 0.5481 - 21s/epoch - 71ms/step\n",
            "Epoch 2/16\n",
            "\n",
            "Epoch 2: val_loss improved from 1.09563 to 0.99424, saving model to chkPt1.h5\n",
            "288/288 - 9s - loss: 1.0755 - accuracy: 0.5458 - val_loss: 0.9942 - val_accuracy: 0.5846 - 9s/epoch - 32ms/step\n",
            "Epoch 3/16\n",
            "\n",
            "Epoch 3: val_loss improved from 0.99424 to 0.96950, saving model to chkPt1.h5\n",
            "288/288 - 9s - loss: 0.9990 - accuracy: 0.5853 - val_loss: 0.9695 - val_accuracy: 0.5993 - 9s/epoch - 31ms/step\n",
            "Epoch 4/16\n",
            "\n",
            "Epoch 4: val_loss improved from 0.96950 to 0.93892, saving model to chkPt1.h5\n",
            "288/288 - 9s - loss: 0.9529 - accuracy: 0.6094 - val_loss: 0.9389 - val_accuracy: 0.6225 - 9s/epoch - 32ms/step\n",
            "Epoch 5/16\n",
            "\n",
            "Epoch 5: val_loss improved from 0.93892 to 0.87556, saving model to chkPt1.h5\n",
            "288/288 - 9s - loss: 0.9188 - accuracy: 0.6235 - val_loss: 0.8756 - val_accuracy: 0.6467 - 9s/epoch - 31ms/step\n",
            "Epoch 6/16\n",
            "\n",
            "Epoch 6: val_loss improved from 0.87556 to 0.85787, saving model to chkPt1.h5\n",
            "288/288 - 9s - loss: 0.8893 - accuracy: 0.6369 - val_loss: 0.8579 - val_accuracy: 0.6520 - 9s/epoch - 32ms/step\n",
            "Epoch 7/16\n",
            "\n",
            "Epoch 7: val_loss improved from 0.85787 to 0.85169, saving model to chkPt1.h5\n",
            "288/288 - 9s - loss: 0.8686 - accuracy: 0.6461 - val_loss: 0.8517 - val_accuracy: 0.6556 - 9s/epoch - 32ms/step\n",
            "Epoch 8/16\n",
            "\n",
            "Epoch 8: val_loss improved from 0.85169 to 0.84213, saving model to chkPt1.h5\n",
            "288/288 - 9s - loss: 0.8471 - accuracy: 0.6567 - val_loss: 0.8421 - val_accuracy: 0.6615 - 9s/epoch - 32ms/step\n",
            "Epoch 9/16\n",
            "\n",
            "Epoch 9: val_loss did not improve from 0.84213\n",
            "288/288 - 9s - loss: 0.8302 - accuracy: 0.6643 - val_loss: 0.8640 - val_accuracy: 0.6531 - 9s/epoch - 32ms/step\n",
            "Epoch 10/16\n",
            "\n",
            "Epoch 10: val_loss improved from 0.84213 to 0.82819, saving model to chkPt1.h5\n",
            "288/288 - 9s - loss: 0.8194 - accuracy: 0.6683 - val_loss: 0.8282 - val_accuracy: 0.6709 - 9s/epoch - 32ms/step\n",
            "Epoch 11/16\n",
            "\n",
            "Epoch 11: val_loss did not improve from 0.82819\n",
            "288/288 - 9s - loss: 0.8060 - accuracy: 0.6780 - val_loss: 0.8498 - val_accuracy: 0.6673 - 9s/epoch - 33ms/step\n",
            "Epoch 12/16\n",
            "\n",
            "Epoch 12: val_loss improved from 0.82819 to 0.81429, saving model to chkPt1.h5\n",
            "288/288 - 9s - loss: 0.7887 - accuracy: 0.6837 - val_loss: 0.8143 - val_accuracy: 0.6785 - 9s/epoch - 32ms/step\n",
            "Epoch 13/16\n",
            "\n",
            "Epoch 13: val_loss improved from 0.81429 to 0.80045, saving model to chkPt1.h5\n",
            "288/288 - 9s - loss: 0.7768 - accuracy: 0.6916 - val_loss: 0.8005 - val_accuracy: 0.6857 - 9s/epoch - 33ms/step\n",
            "Epoch 14/16\n",
            "\n",
            "Epoch 14: val_loss did not improve from 0.80045\n",
            "288/288 - 9s - loss: 0.7706 - accuracy: 0.6916 - val_loss: 0.8063 - val_accuracy: 0.6785 - 9s/epoch - 33ms/step\n",
            "Epoch 15/16\n",
            "\n",
            "Epoch 15: val_loss did not improve from 0.80045\n",
            "288/288 - 9s - loss: 0.7523 - accuracy: 0.7001 - val_loss: 0.8123 - val_accuracy: 0.6796 - 9s/epoch - 33ms/step\n",
            "Epoch 16/16\n",
            "\n",
            "Epoch 16: val_loss did not improve from 0.80045\n",
            "288/288 - 9s - loss: 0.7442 - accuracy: 0.7026 - val_loss: 0.8143 - val_accuracy: 0.6776 - 9s/epoch - 32ms/step\n"
          ]
        }
      ],
      "source": [
        "# checkpoint\n",
        "checkPoint = ModelCheckpoint(filepath='chkPt1.h5', verbose=1, save_best_only=True)\n",
        "\n",
        "res = model.fit(train_pix, train_ind, epochs=16,\n",
        "                 shuffle=True,\n",
        "                 batch_size=100, \n",
        "                 validation_data=(test_pix, test_ind),\n",
        "                 callbacks=[checkPoint], \n",
        "                 verbose=2)\n",
        "\n",
        "# save model to json\n",
        "model_json = model.to_json()\n",
        "with open(\"model1.json\", \"w\") as json_file:\n",
        "    json_file.write(model_json)"
      ]
    },
    {
      "cell_type": "code",
      "execution_count": 25,
      "metadata": {
        "colab": {
          "base_uri": "https://localhost:8080/",
          "height": 250
        },
        "id": "sANBtniHOYKx",
        "outputId": "9456b310-9263-4cc4-fd16-ea2a1b2bbfd9"
      },
      "outputs": [
        {
          "output_type": "stream",
          "name": "stderr",
          "text": [
            "No handles with labels found to put in legend.\n"
          ]
        },
        {
          "output_type": "display_data",
          "data": {
            "text/plain": [
              "<Figure size 1008x216 with 2 Axes>"
            ],
            "image/png": "[encoded data removed]"
          },
          "metadata": {
            "needs_background": "light"
          }
        }
      ],
      "source": [
        "import seaborn as sns\n",
        "plt.figure(figsize=(14,3))\n",
        "plt.subplot(1, 2, 1)\n",
        "plt.suptitle('Optimizer : Adam', fontsize=10)\n",
        "plt.ylabel('Loss', fontsize=16)\n",
        "plt.plot(res.history['loss'], color='b', label='Training Loss')\n",
        "plt.plot(res.history['val_loss'], color='r', label='Validation Loss')\n",
        "plt.legend(loc='upper right')\n",
        "\n",
        "plt.subplot(1, 2, 2)\n",
        "plt.ylabel('Accuracy', fontsize=16)\n",
        "#plt.plot(res.history['acc'], color='b', label='Training Accuracy')\n",
        "#plt.plot(res.history['val_acc'], color='r', label='Validation Accuracy')\n",
        "plt.legend(loc='lower right')\n",
        "plt.show()"
      ]
    },
    {
      "cell_type": "code",
      "execution_count": 20,
      "metadata": {
        "colab": {
          "base_uri": "https://localhost:8080/"
        },
        "id": "zD6oJooyOYKz",
        "outputId": "c853dc39-6aa4-40db-adf4-70e32205fd7e"
      },
      "outputs": [
        {
          "output_type": "execute_result",
          "data": {
            "text/plain": [
              "[0.8143378496170044, 0.6776260733604431]"
            ]
          },
          "metadata": {},
          "execution_count": 20
        }
      ],
      "source": [
        "score = model.evaluate(test_pix, test_ind, verbose=0)\n",
        "score"
      ]
    },
    {
      "cell_type": "code",
      "execution_count": 21,
      "metadata": {
        "collapsed": true,
        "id": "F5I6MCU-OYK1"
      },
      "outputs": [],
      "source": [
        "from keras.models import model_from_json\n",
        "import numpy as np\n",
        "\n",
        "class FacialExpressionModel(object):\n",
        "    EMOTIONS_LIST = [\"Angry\", \"Disgust/fear/surprise\",\"Sad\",\"Happy\", \"Neutral\"]\n",
        "\n",
        "    def __init__(self, model_json_file, model_weights_file):\n",
        "        # load model from JSON file\n",
        "        with open(model_json_file, \"r\") as json_file:\n",
        "            loaded_model_json = json_file.read()\n",
        "            self.loaded_model = model_from_json(loaded_model_json)\n",
        "\n",
        "        # load weights into the new model\n",
        "        self.loaded_model.load_weights(model_weights_file)\n",
        "        print(\"Model loaded from disk\")\n",
        "        self.loaded_model.summary()\n",
        "\n",
        "    def predict_emotion(self, img):\n",
        "        self.preds = self.loaded_model.predict(img)\n",
        "\n",
        "        return FacialExpressionModel.EMOTIONS_LIST[np.argmax(self.preds)]\n",
        "\n",
        "\n",
        "if __name__ == '__main__':\n",
        "    pass"
      ]
    }
  ],
  "metadata": {
    "kernelspec": {
      "display_name": "Python 3",
      "language": "python",
      "name": "python3"
    },
    "language_info": {
      "codemirror_mode": {
        "name": "ipython",
        "version": 3
      },
      "file_extension": ".py",
      "mimetype": "text/x-python",
      "name": "python",
      "nbconvert_exporter": "python",
      "pygments_lexer": "ipython3",
      "version": "3.6.4"
    },
    "colab": {
      "name": "Emotion Recognition System Neural Networks.ipynb",
      "provenance": []
    },
    "accelerator": "GPU"
  },
  "nbformat": 4,
  "nbformat_minor": 0
}